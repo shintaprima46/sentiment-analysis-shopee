{
 "cells": [
  {
   "cell_type": "code",
   "execution_count": 70,
   "metadata": {},
   "outputs": [],
   "source": [
    "import numpy as np # linear algebra\n",
    "import pandas as pd # data processing, CSV file I/O (e.g. pd.read_csv)\n",
    "\n",
    "from sklearn.feature_extraction.text import CountVectorizer\n",
    "from keras.preprocessing.text import Tokenizer\n",
    "from keras.preprocessing.sequence import pad_sequences\n",
    "from keras.models import Sequential\n",
    "from keras.layers import Dense, Embedding, LSTM, SpatialDropout1D\n",
    "from sklearn.model_selection import train_test_split\n",
    "from keras.utils.np_utils import to_categorical\n",
    "from sklearn.utils import resample\n",
    "from sklearn.utils import shuffle\n",
    "from sklearn.metrics import confusion_matrix,classification_report\n",
    "from tqdm import tqdm\n",
    "import re\n",
    "\n",
    "from keras.layers import Dense, Dropout, Activation, LSTM"
   ]
  },
  {
   "cell_type": "code",
   "execution_count": 2,
   "metadata": {},
   "outputs": [
    {
     "data": {
      "text/html": [
       "<div>\n",
       "<style scoped>\n",
       "    .dataframe tbody tr th:only-of-type {\n",
       "        vertical-align: middle;\n",
       "    }\n",
       "\n",
       "    .dataframe tbody tr th {\n",
       "        vertical-align: top;\n",
       "    }\n",
       "\n",
       "    .dataframe thead th {\n",
       "        text-align: right;\n",
       "    }\n",
       "</style>\n",
       "<table border=\"1\" class=\"dataframe\">\n",
       "  <thead>\n",
       "    <tr style=\"text-align: right;\">\n",
       "      <th></th>\n",
       "      <th>review_id</th>\n",
       "      <th>review</th>\n",
       "      <th>rating</th>\n",
       "    </tr>\n",
       "  </thead>\n",
       "  <tbody>\n",
       "    <tr>\n",
       "      <th>0</th>\n",
       "      <td>0</td>\n",
       "      <td>Ga disappointed neat products .. Meletot Hilsn...</td>\n",
       "      <td>1</td>\n",
       "    </tr>\n",
       "    <tr>\n",
       "      <th>1</th>\n",
       "      <td>1</td>\n",
       "      <td>Rdtanya replace broken glass, broken chargernya</td>\n",
       "      <td>1</td>\n",
       "    </tr>\n",
       "    <tr>\n",
       "      <th>2</th>\n",
       "      <td>2</td>\n",
       "      <td>Nyesel bngt dsni shopping antecedent photo mes...</td>\n",
       "      <td>1</td>\n",
       "    </tr>\n",
       "    <tr>\n",
       "      <th>3</th>\n",
       "      <td>3</td>\n",
       "      <td>Sent a light blue suit goods ga want a refund</td>\n",
       "      <td>1</td>\n",
       "    </tr>\n",
       "    <tr>\n",
       "      <th>4</th>\n",
       "      <td>4</td>\n",
       "      <td>Pendants came with dents and scratches on its ...</td>\n",
       "      <td>1</td>\n",
       "    </tr>\n",
       "  </tbody>\n",
       "</table>\n",
       "</div>"
      ],
      "text/plain": [
       "   review_id                                             review  rating\n",
       "0          0  Ga disappointed neat products .. Meletot Hilsn...       1\n",
       "1          1    Rdtanya replace broken glass, broken chargernya       1\n",
       "2          2  Nyesel bngt dsni shopping antecedent photo mes...       1\n",
       "3          3      Sent a light blue suit goods ga want a refund       1\n",
       "4          4  Pendants came with dents and scratches on its ...       1"
      ]
     },
     "execution_count": 2,
     "metadata": {},
     "output_type": "execute_result"
    }
   ],
   "source": [
    "#Membaca data\n",
    "data=pd.read_csv('C:/WinPython_64bit/notebooks/shopee code league 2020/shopee-sentiment-analysis_dataset/train.csv')\n",
    "data.head()"
   ]
  },
  {
   "cell_type": "code",
   "execution_count": 54,
   "metadata": {},
   "outputs": [
    {
     "data": {
      "text/plain": [
       "Text(0,0.5,'rating')"
      ]
     },
     "execution_count": 54,
     "metadata": {},
     "output_type": "execute_result"
    },
    {
     "data": {
      "image/png": "[encoded data removed]",
      "text/plain": [
       "<Figure size 432x288 with 1 Axes>"
      ]
     },
     "metadata": {},
     "output_type": "display_data"
    }
   ],
   "source": [
    "import matplotlib.pyplot as plt\n",
    "ax = data['rating'].value_counts(sort=False).plot(kind='barh')\n",
    "ax.set_xlabel(\"Number of Samples in training Set\")\n",
    "ax.set_ylabel(\"rating\")\n"
   ]
  },
  {
   "cell_type": "code",
   "execution_count": 3,
   "metadata": {},
   "outputs": [],
   "source": [
    "#merubah kolom review menjadi list\n",
    "\n",
    "listdata=data['review'].values.astype('U')\n",
    "listdata = [d for d in listdata]"
   ]
  },
  {
   "cell_type": "code",
   "execution_count": 4,
   "metadata": {},
   "outputs": [],
   "source": [
    "text =  [a for a in listdata]"
   ]
  },
  {
   "cell_type": "code",
   "execution_count": 5,
   "metadata": {},
   "outputs": [],
   "source": [
    "sentence = ' '.join(text)"
   ]
  },
  {
   "cell_type": "code",
   "execution_count": 6,
   "metadata": {},
   "outputs": [],
   "source": [
    "word = sentence.split()"
   ]
  },
  {
   "cell_type": "code",
   "execution_count": 7,
   "metadata": {},
   "outputs": [
    {
     "data": {
      "text/plain": [
       "2157855"
      ]
     },
     "execution_count": 7,
     "metadata": {},
     "output_type": "execute_result"
    }
   ],
   "source": [
    "len(word)"
   ]
  },
  {
   "cell_type": "markdown",
   "metadata": {},
   "source": [
    "len(np.unique(word))"
   ]
  },
  {
   "cell_type": "code",
   "execution_count": 11,
   "metadata": {},
   "outputs": [
    {
     "data": {
      "text/plain": [
       "array([[  0,   0,   0, ...,   7,   4,   1],\n",
       "       [  0,   0,   0, ..., 244, 639, 244],\n",
       "       [  0,   0,   0, ...,  32,   2, 696],\n",
       "       [  0,   0,   0, ..., 162,  15, 424],\n",
       "       [  0,   0,   0, ..., 482, 896, 175]])"
      ]
     },
     "execution_count": 11,
     "metadata": {},
     "output_type": "execute_result"
    }
   ],
   "source": [
    "tokenizer = Tokenizer(num_words=2300, split=\" \")\n",
    "tokenizer.fit_on_texts(listdata)\n",
    "\n",
    "X = tokenizer.texts_to_sequences(listdata)\n",
    "X = pad_sequences(X) # padding our text vector so they all have the same length\n",
    "X[:5]"
   ]
  },
  {
   "cell_type": "code",
   "execution_count": 17,
   "metadata": {},
   "outputs": [
    {
     "name": "stdout",
     "output_type": "stream",
     "text": [
      "1 [1 0 0 0 0]\n",
      "1 [1 0 0 0 0]\n",
      "1 [1 0 0 0 0]\n",
      "1 [1 0 0 0 0]\n",
      "1 [1 0 0 0 0]\n"
     ]
    },
    {
     "data": {
      "text/plain": [
       "[None, None, None, None, None]"
      ]
     },
     "execution_count": 17,
     "metadata": {},
     "output_type": "execute_result"
    }
   ],
   "source": [
    "y = pd.get_dummies(data['rating']).values\n",
    "[print(data['rating'][i], y[i]) for i in range(0,5)]"
   ]
  },
  {
   "cell_type": "code",
   "execution_count": 18,
   "metadata": {},
   "outputs": [],
   "source": [
    "index = [a for a in range(len(X))]"
   ]
  },
  {
   "cell_type": "code",
   "execution_count": 19,
   "metadata": {},
   "outputs": [],
   "source": [
    "X_train, X_test, y_train, y_test, idx_train, idx_test = train_test_split(X, y, index, test_size=0.2 , random_state=0)"
   ]
  },
  {
   "cell_type": "code",
   "execution_count": 20,
   "metadata": {},
   "outputs": [
    {
     "name": "stdout",
     "output_type": "stream",
     "text": [
      "(117448, 352)\n",
      "(29363, 352)\n",
      "(117448, 5)\n",
      "(29363, 5)\n",
      "117448\n",
      "29363\n"
     ]
    }
   ],
   "source": [
    "print(X_train.shape)\n",
    "print(X_test.shape)\n",
    "print(y_train.shape)\n",
    "print(y_test.shape)\n",
    "print(len(idx_train))\n",
    "print(len(idx_test))"
   ]
  },
  {
   "cell_type": "code",
   "execution_count": 21,
   "metadata": {},
   "outputs": [
    {
     "data": {
      "text/plain": [
       "array([[  0,   0,   0, ..., 320,  11,  24],\n",
       "       [  0,   0,   0, ..., 196, 977, 486],\n",
       "       [  0,   0,   0, ...,  40,   6,  18],\n",
       "       ...,\n",
       "       [  0,   0,   0, ...,  46,  27,  44],\n",
       "       [  0,   0,   0, ...,   4,   6,   1],\n",
       "       [  0,   0,   0, ...,  19,  25,  61]])"
      ]
     },
     "execution_count": 21,
     "metadata": {},
     "output_type": "execute_result"
    }
   ],
   "source": [
    "X_test"
   ]
  },
  {
   "cell_type": "code",
   "execution_count": 23,
   "metadata": {},
   "outputs": [
    {
     "data": {
      "text/plain": [
       "array([[0, 0, 0, 1, 0],\n",
       "       [0, 0, 0, 1, 0],\n",
       "       [0, 0, 0, 1, 0],\n",
       "       ...,\n",
       "       [0, 0, 0, 1, 0],\n",
       "       [0, 0, 0, 0, 1],\n",
       "       [0, 0, 1, 0, 0]], dtype=uint8)"
      ]
     },
     "execution_count": 23,
     "metadata": {},
     "output_type": "execute_result"
    }
   ],
   "source": [
    "y_train"
   ]
  },
  {
   "cell_type": "code",
   "execution_count": 24,
   "metadata": {},
   "outputs": [],
   "source": [
    "from keras.optimizers import Adam"
   ]
  },
  {
   "cell_type": "code",
   "execution_count": 36,
   "metadata": {},
   "outputs": [
    {
     "name": "stdout",
     "output_type": "stream",
     "text": [
      "_________________________________________________________________\n",
      "Layer (type)                 Output Shape              Param #   \n",
      "=================================================================\n",
      "embedding_2 (Embedding)      (None, 352, 400)          920400    \n",
      "_________________________________________________________________\n",
      "lstm_2 (LSTM)                (None, 400)               1281600   \n",
      "_________________________________________________________________\n",
      "dense_2 (Dense)              (None, 5)                 2005      \n",
      "=================================================================\n",
      "Total params: 2,204,005\n",
      "Trainable params: 2,204,005\n",
      "Non-trainable params: 0\n",
      "_________________________________________________________________\n"
     ]
    }
   ],
   "source": [
    "model = Sequential()\n",
    "model.add(Embedding(2301, 400, input_length=X_train.shape[1]))\n",
    "model.add(LSTM(400))\n",
    "model.add(Dense(5, activation='sigmoid'))\n",
    "adam = Adam(lr=0.001)\n",
    "model.compile(loss='binary_crossentropy', optimizer='adam', metrics=['accuracy'])\n",
    "model.summary()"
   ]
  },
  {
   "cell_type": "code",
   "execution_count": 26,
   "metadata": {},
   "outputs": [],
   "source": [
    "import time"
   ]
  },
  {
   "cell_type": "code",
   "execution_count": 37,
   "metadata": {},
   "outputs": [
    {
     "name": "stdout",
     "output_type": "stream",
     "text": [
      "Train on 82213 samples, validate on 35235 samples\n",
      "Epoch 1/10\n",
      "82213/82213 [==============================] - 10908s 133ms/step - loss: 0.3753 - acc: 0.8146 - val_loss: 0.3566 - val_acc: 0.8210\n",
      "\n",
      "Epoch 00001: val_loss improved from inf to 0.35659, saving model to weights4.hdf5\n",
      "Epoch 2/10\n",
      "82213/82213 [==============================] - 10695s 130ms/step - loss: 0.3496 - acc: 0.8220 - val_loss: 0.3537 - val_acc: 0.8203\n",
      "\n",
      "Epoch 00002: val_loss improved from 0.35659 to 0.35367, saving model to weights4.hdf5\n",
      "Epoch 3/10\n",
      "82213/82213 [==============================] - 10150s 123ms/step - loss: 0.3393 - acc: 0.8255 - val_loss: 0.3558 - val_acc: 0.8200\n",
      "\n",
      "Epoch 00003: val_loss did not improve from 0.35367\n",
      "Epoch 4/10\n",
      "82213/82213 [==============================] - 10141s 123ms/step - loss: 0.3293 - acc: 0.8304 - val_loss: 0.3596 - val_acc: 0.8182\n",
      "\n",
      "Epoch 00004: val_loss did not improve from 0.35367\n",
      "Epoch 5/10\n",
      "82213/82213 [==============================] - 10094s 123ms/step - loss: 0.3171 - acc: 0.8357 - val_loss: 0.3672 - val_acc: 0.8148\n",
      "\n",
      "Epoch 00005: val_loss did not improve from 0.35367\n",
      "Epoch 6/10\n",
      "82213/82213 [==============================] - 10557s 128ms/step - loss: 0.3021 - acc: 0.8429 - val_loss: 0.3785 - val_acc: 0.8117\n",
      "\n",
      "Epoch 00006: val_loss did not improve from 0.35367\n",
      "Epoch 7/10\n",
      "82213/82213 [==============================] - 10315s 125ms/step - loss: 0.2818 - acc: 0.8536 - val_loss: 0.4026 - val_acc: 0.8059\n",
      "\n",
      "Epoch 00007: val_loss did not improve from 0.35367\n",
      "Epoch 8/10\n",
      "82213/82213 [==============================] - 10897s 133ms/step - loss: 0.2569 - acc: 0.8674 - val_loss: 0.4330 - val_acc: 0.8013\n",
      "\n",
      "Epoch 00008: val_loss did not improve from 0.35367\n",
      "Epoch 9/10\n",
      "82213/82213 [==============================] - 10965s 133ms/step - loss: 0.2294 - acc: 0.8842 - val_loss: 0.4869 - val_acc: 0.7976\n",
      "\n",
      "Epoch 00009: val_loss did not improve from 0.35367\n",
      "Epoch 10/10\n",
      "82213/82213 [==============================] - 11567s 141ms/step - loss: 0.2019 - acc: 0.8987 - val_loss: 0.5325 - val_acc: 0.7968\n",
      "\n",
      "Epoch 00010: val_loss did not improve from 0.35367\n",
      "Waktu = 106291.105 detik\n"
     ]
    }
   ],
   "source": [
    "from keras.callbacks import ModelCheckpoint\n",
    "import keras\n",
    "\n",
    "# class LossHistory(keras.callbacks.Callback):\n",
    "#     def on_train_begin(self, logs={}):\n",
    "#         self.losses = []\n",
    "\n",
    "#     def on_batch_end(self, batch, logs={}):\n",
    "#         self.losses.append(logs.get('loss'))\n",
    "        \n",
    "# history = LossHistory()\n",
    "checkpointer = ModelCheckpoint(filepath='weights4.hdf5',monitor='val_loss', verbose=1, save_best_only=True)\n",
    "\n",
    "batch_size = 32\n",
    "epochs = 10\n",
    "\n",
    "mulai = time.time()\n",
    "lstm = model.fit(X_train, y_train, validation_split=0.3, epochs=epochs, batch_size=batch_size, verbose=1 , callbacks=[checkpointer])\n",
    "waktu = time.time() - mulai\n",
    "print(\"Waktu = %0.3f detik\" % (waktu))"
   ]
  },
  {
   "cell_type": "code",
   "execution_count": 38,
   "metadata": {},
   "outputs": [
    {
     "data": {
      "text/plain": [
       "{'acc': [0.8146448807257703,\n",
       "  0.8220111125027066,\n",
       "  0.8255117747059906,\n",
       "  0.8303820507497659,\n",
       "  0.8357437329210633,\n",
       "  0.8429007520685867,\n",
       "  0.8535608668379415,\n",
       "  0.8674126881851182,\n",
       "  0.8842251131929645,\n",
       "  0.898665652162797],\n",
       " 'loss': [0.37526370665965675,\n",
       "  0.34955493671738663,\n",
       "  0.3392557387764487,\n",
       "  0.32928654601277474,\n",
       "  0.3170664532795517,\n",
       "  0.3020898326748374,\n",
       "  0.28175115929087163,\n",
       "  0.2569279000078797,\n",
       "  0.22936232504074364,\n",
       "  0.20186614677323222],\n",
       " 'val_acc': [0.821001840654427,\n",
       "  0.8203320509984474,\n",
       "  0.8200141851320425,\n",
       "  0.8181637532223501,\n",
       "  0.8147523723630443,\n",
       "  0.8116645349413516,\n",
       "  0.8059088940161652,\n",
       "  0.8013395760657179,\n",
       "  0.797610329534545,\n",
       "  0.7968326938022058],\n",
       " 'val_loss': [0.3565885792095576,\n",
       "  0.3536704788795681,\n",
       "  0.35578932610068303,\n",
       "  0.3595955830415767,\n",
       "  0.3672155065673183,\n",
       "  0.378485671109099,\n",
       "  0.40260572320301513,\n",
       "  0.4329830163537111,\n",
       "  0.4869289442344948,\n",
       "  0.5325483751581191]}"
      ]
     },
     "execution_count": 38,
     "metadata": {},
     "output_type": "execute_result"
    }
   ],
   "source": [
    "lstm.history"
   ]
  },
  {
   "cell_type": "code",
   "execution_count": 39,
   "metadata": {},
   "outputs": [],
   "source": [
    "import pandas as pd, seaborn as sns\n",
    "import matplotlib.pyplot as plt"
   ]
  },
  {
   "cell_type": "code",
   "execution_count": 40,
   "metadata": {},
   "outputs": [
    {
     "data": {
      "image/png": "[encoded data removed]",
      "text/plain": [
       "<Figure size 432x288 with 1 Axes>"
      ]
     },
     "metadata": {},
     "output_type": "display_data"
    }
   ],
   "source": [
    "#grafik akurasi\n",
    "plt.plot(lstm.history['acc'])\n",
    "plt.plot(lstm.history['val_acc'], linestyle='--', color = 'black')\n",
    "plt.title('Training dan Validation Accurasy')\n",
    "plt.ylabel('accuracy')\n",
    "plt.xlabel('epoch')\n",
    "plt.legend(['train', 'val'], loc='upper left')\n",
    "plt.show()"
   ]
  },
  {
   "cell_type": "code",
   "execution_count": 41,
   "metadata": {},
   "outputs": [
    {
     "data": {
      "image/png": "[encoded data removed]",
      "text/plain": [
       "<Figure size 432x288 with 1 Axes>"
      ]
     },
     "metadata": {},
     "output_type": "display_data"
    }
   ],
   "source": [
    "#grafik loss\n",
    "plt.plot(lstm.history['loss'])\n",
    "plt.plot(lstm.history['val_loss'],linestyle='--', color = 'black')\n",
    "plt.title('Training dan Validation Loss')\n",
    "plt.ylabel('Loss')\n",
    "plt.xlabel('epoch')\n",
    "plt.legend(['train', 'val'], loc='upper left')\n",
    "plt.show()"
   ]
  },
  {
   "cell_type": "code",
   "execution_count": 85,
   "metadata": {},
   "outputs": [
    {
     "name": "stdout",
     "output_type": "stream",
     "text": [
      "Ga disappointed neat products .. Meletot Hilsnyaa Speed ​​of delivery is good. [0.02727566 0.03818621 0.06055716 0.39382625 0.10276756] [1 0 0 0 0]\n",
      "Rdtanya replace broken glass, broken chargernya [1.274641e-04 2.250113e-02 3.756756e-01 7.249154e-01 4.153653e-02] [0 0 0 0 1]\n",
      "Nyesel bngt dsni shopping antecedent photo message pictures gk according foto.di existing collagen super fit nyampe holo my house open ehhh collagen contents even in the face pdahal jg description super existing collagen originalnya.pas writing my check lg in photo captions already ma The change ma pictures that the face. [1.2669063e-04 2.8759649e-02 4.1430339e-01 9.2384607e-02 5.2568752e-01] [0 0 0 0 1]\n",
      "Sent a light blue suit goods ga want a refund [0.00270839 0.00316588 0.54171443 0.4434515  0.05933532] [0 0 1 0 0]\n",
      "Pendants came with dents and scratches on its surface. The coating looks like it will change colour quickly.  [3.8928520e-06 2.8114860e-05 2.6388578e-03 5.1312673e-01 6.1517018e-01] [0 0 0 0 1]\n"
     ]
    },
    {
     "data": {
      "text/plain": [
       "[None, None, None, None, None]"
      ]
     },
     "execution_count": 85,
     "metadata": {},
     "output_type": "execute_result"
    }
   ],
   "source": [
    "predictions = model.predict(X_test)\n",
    "\n",
    "[print(listdata[i], predictions[i], y_test[i]) for i in range(0, 5)]"
   ]
  },
  {
   "cell_type": "code",
   "execution_count": 86,
   "metadata": {},
   "outputs": [
    {
     "data": {
      "text/plain": [
       "array([[1, 0, 0, 0, 0],\n",
       "       [0, 0, 0, 0, 1],\n",
       "       [0, 0, 0, 0, 1],\n",
       "       ...,\n",
       "       [0, 0, 0, 0, 1],\n",
       "       [0, 0, 0, 1, 0],\n",
       "       [0, 0, 0, 1, 0]], dtype=uint8)"
      ]
     },
     "execution_count": 86,
     "metadata": {},
     "output_type": "execute_result"
    }
   ],
   "source": [
    "y_test"
   ]
  },
  {
   "cell_type": "markdown",
   "metadata": {},
   "source": [
    "### tes model ke data baru (test)"
   ]
  },
  {
   "cell_type": "code",
   "execution_count": 126,
   "metadata": {},
   "outputs": [],
   "source": [
    "from sklearn.feature_extraction.text import TfidfVectorizer\n",
    "from sklearn.model_selection import train_test_split\n",
    "from sklearn.metrics import accuracy_score,confusion_matrix, classification_report\n",
    "from sklearn.svm import SVC\n",
    "import pandas as pd\n",
    "import pickle\n",
    "from collections import Counter\n",
    "from bs4 import BeautifulSoup as bs\n",
    "import re,csv, os, itertools, pandas as pd,docx2txt\n",
    "from tqdm import tqdm\n",
    "from pattern.web import PDF\n",
    "from nltk.tokenize import RegexpTokenizer\n",
    "from nltk.stem import WordNetLemmatizer\n",
    "from nltk import sent_tokenize, word_tokenize\n",
    "from spacy.lang.id import Indonesian\n",
    "from html import unescape\n",
    "from unidecode import unidecode\n",
    "from bz2 import BZ2File as bz2\n",
    "from textblob import TextBlob\n",
    "import spacy\n",
    "from sklearn.multiclass import OneVsRestClassifier\n",
    "from sklearn.naive_bayes import GaussianNB, MultinomialNB, BernoulliNB\n",
    "from imblearn.under_sampling import RandomUnderSampler\n",
    "from imblearn.over_sampling import RandomOverSampler\n",
    "from imblearn.combine import SMOTEENN # Combination of the 2\n",
    "from sklearn.model_selection import cross_val_score #score evaluation\n",
    "from sklearn.model_selection import cross_val_predict #prediction\n",
    "from sklearn import metrics\n",
    "from imblearn.metrics import classification_report_imbalanced"
   ]
  },
  {
   "cell_type": "code",
   "execution_count": 127,
   "metadata": {},
   "outputs": [],
   "source": [
    "def LoadStopWords(lang):\n",
    "    L = lang.lower().strip()\n",
    "    if L == 'en' or L == 'english' or L == 'inggris':\n",
    "        lemmatizer = WordNetLemmatizer()\n",
    "        stops =  set([t.strip() for t in LoadDocuments(file = 'C:/WinPython_64bit/notebooks/Google-Play-Store-Review-Extractor-master/stopwords_eng.txt')[0]])\n",
    "    elif L == 'id' or L == 'indonesia' or L=='indonesian':\n",
    "        lemmatizer = Indonesian() \n",
    "        stops = set([t.strip() for t in LoadDocuments(file = 'C:/WinPython_64bit/notebooks/Google-Play-Store-Review-Extractor-master/stopwords_id.txt')[0]])\n",
    "    else:\n",
    "        print('Warning, language not recognized. Empty StopWords Given')\n",
    "        stops = set(); lemmatizer = None\n",
    "    return stops, lemmatizer\n",
    "\n",
    "def fixTags(T):\n",
    "    getHashtags = re.compile(r\"#(\\w+)\")\n",
    "    pisahtags = re.compile(r'[A-Z][^A-Z]*')\n",
    "    t = T\n",
    "    tagS = re.findall(getHashtags, T)\n",
    "    for tag in tagS:\n",
    "        proper_words = ' '.join(re.findall(pisahtags, tag))\n",
    "        t = t.replace('#'+tag,proper_words)\n",
    "    return t\n",
    "\n",
    "def readBz2(file):\n",
    "    with bz2(file, \"r\") as bzData:\n",
    "        txt = []\n",
    "        for line in bzData:\n",
    "            try:\n",
    "                txt.append(line.strip().decode('utf-8','replace'))\n",
    "            except:\n",
    "                pass\n",
    "    return ' '.join(txt)\n",
    "\n",
    "def LoadDocuments(dPath=None,types=None, file = None): # types = ['pdf','doc','docx','txt','bz2']\n",
    "    Files, Docs = [], []\n",
    "    if types:\n",
    "        for tipe in types:\n",
    "            Files += crawlFiles(dPath,tipe)\n",
    "    if file:\n",
    "        Files = [file]\n",
    "    if not types and not file: # get all files regardless of their extensions\n",
    "        Files += crawlFiles(dPath)\n",
    "    for f in Files:\n",
    "        if f[-3:].lower()=='pdf':\n",
    "            try:\n",
    "                Docs.append(PDF(f).string)\n",
    "            except:\n",
    "                print('error reading{0}'.format(f))\n",
    "        elif f[-3:].lower()=='txt' or f[-3:].lower()=='dic':\n",
    "            try:\n",
    "                df=open(f,\"r\",encoding=\"utf-8\", errors='replace')\n",
    "                Docs.append(df.readlines());df.close()\n",
    "            except:\n",
    "                print('error reading{0}'.format(f))\n",
    "        elif f[-3:].lower()=='bz2':\n",
    "            try:\n",
    "                Docs.append(readBz2(f))\n",
    "            except:\n",
    "                print('error reading{0}'.format(f))\n",
    "        elif f[-4:].lower()=='docx':\n",
    "            try:\n",
    "                Docs.append(docx2txt.process(f))\n",
    "            except:\n",
    "                print('error reading{0}'.format(f))\n",
    "        elif f[-3:].lower()=='csv':\n",
    "            Docs.append(pd.read_csv(f))\n",
    "        else:\n",
    "            print('Unsupported format {0}'.format(f))\n",
    "    if file:\n",
    "        Docs = Docs[0]\n",
    "    return Docs, Files\n",
    "\n",
    "def DelPic(text): #untuk menghilangkan informasi gambar\n",
    "    D = text.split()\n",
    "    D = [d for d in D if 'pic.twitter.com' not in d]\n",
    "    return ' ' .join(D)\n",
    "\n",
    "def LoadSlang(DirSlang):\n",
    "    Slangs =LoadDocuments(file = DirSlang)\n",
    "    SlangDict={}\n",
    "    for slang in Slangs[0]:\n",
    "        try:\n",
    "            key, value = slang.split(':')\n",
    "            SlangDict[key.strip()] = value.strip()\n",
    "        except:\n",
    "            pass\n",
    "    return SlangDict\n",
    "\n",
    "def cleanText(T, fix={}, lang = 'id', lemma=None, stops = set(), symbols_remove = False, min_charLen = 0): \n",
    "    # lang & stopS only 2 options : 'en' atau 'id'\n",
    "    # symbols ASCII atau alnum\n",
    "    pattern = re.compile(r'http[s]?://(?:[a-zA-Z]|[0-9]|[$-_@.&+]|[!*\\(\\),]|(?:%[0-9a-fA-F][0-9a-fA-F]))+')\n",
    "    t = re.sub(pattern,' ',T) #remove urls if any\n",
    "    t = DelPic(t)\n",
    "    t = unescape(t) # html entities fix\n",
    "    t = fixTags(t) # fix abcDef\n",
    "    t = t.lower().strip() # lowercase\n",
    "    t = unidecode(t)\n",
    "    t = ''.join(''.join(s)[:2] for _, s in itertools.groupby(t)) # remove repetition\n",
    "    t = sent_tokenize(t) # sentence segmentation. String to list\n",
    "    for i, K in enumerate(t):\n",
    "        if symbols_remove:\n",
    "            K = re.sub(r'[^.,a-zA-Z0-9 \\n\\.]',' ',K)\n",
    "        \n",
    "        cleanList = []\n",
    "        if lang =='en':\n",
    "            listKata = word_tokenize(K) # word tokenize\n",
    "            for token in listKata:\n",
    "                if token in fix.keys():\n",
    "                    token = fix[token]\n",
    "                if lemma:\n",
    "                    token = lemma.lemmatize(token)\n",
    "                if stops:\n",
    "                    if len(token)>=min_charLen and token not in stops:\n",
    "                        cleanList.append(token)\n",
    "                else:\n",
    "                    if len(token)>=min_charLen:\n",
    "                        cleanList.append(token)\n",
    "            t[i] = ' '.join(cleanList)\n",
    "        else:\n",
    "            if lemma:\n",
    "                K = lemma(K)\n",
    "                listKata = [token.text for token in K]\n",
    "            else:\n",
    "                listKata = TextBlob(K).words\n",
    "                \n",
    "            for token in listKata:\n",
    "                if token in fix.keys():\n",
    "                    token = fix[token]\n",
    "                \n",
    "                if lemma:\n",
    "                    token = lemma(token)[0].lemma_\n",
    "                if stops:    \n",
    "                    if len(token)>=min_charLen and token not in stops:\n",
    "                        cleanList.append(token)\n",
    "                else:\n",
    "                    if len(token)>=min_charLen:\n",
    "                        cleanList.append(token)\n",
    "            t[i] = ' '.join(cleanList)\n",
    "    return ' '.join(t)\n",
    "\n",
    "stops, lemmatizer = LoadStopWords(lang='en')\n",
    "Slangs=LoadSlang('C:/WinPython_64bit/notebooks/Google-Play-Store-Review-Extractor-master/slang.txt')\n",
    "\n",
    "\n",
    "\n",
    "def predict(text):\n",
    "      ##Preprocessing\n",
    "        text = cleanText(text,Slangs, lemma=lemmatizer,lang='en', stops = stops, symbols_remove = True, min_charLen =3)\n",
    "        text = cleanText(text,fix={}, lemma=lemmatizer,lang='en', stops = stops, symbols_remove = True, min_charLen =3)\n",
    "\n",
    "      ##Predict\n",
    "        filename = 'weights4.hdf5'\n",
    "        clf = pickle.load(open(filename, \"rb\"))\n",
    "        label = clf.predict(test[0])\n",
    "        return label[0]"
   ]
  },
  {
   "cell_type": "code",
   "execution_count": 95,
   "metadata": {},
   "outputs": [],
   "source": [
    "datatest = pd.read_csv('C:/WinPython_64bit/notebooks/shopee code league 2020/shopee-sentiment-analysis_dataset/test - Copy.csv')\n",
    "listdatatest=datatest['review']"
   ]
  },
  {
   "cell_type": "code",
   "execution_count": 104,
   "metadata": {},
   "outputs": [
    {
     "name": "stdout",
     "output_type": "stream",
     "text": [
      "RangeIndex(start=0, stop=62918, step=1)\n"
     ]
    }
   ],
   "source": [
    "print(listdatatest.index)"
   ]
  },
  {
   "cell_type": "code",
   "execution_count": 96,
   "metadata": {},
   "outputs": [
    {
     "data": {
      "text/plain": [
       "62918"
      ]
     },
     "execution_count": 96,
     "metadata": {},
     "output_type": "execute_result"
    }
   ],
   "source": [
    "len(listdatatest)"
   ]
  },
  {
   "cell_type": "code",
   "execution_count": 97,
   "metadata": {},
   "outputs": [
    {
     "name": "stderr",
     "output_type": "stream",
     "text": [
      "\n",
      "  0%|                                                                                        | 0/62918 [00:00<?, ?it/s]\n",
      " 12%|████████▊                                                                 | 7494/62918 [00:00<00:00, 73676.90it/s]\n",
      " 23%|█████████████████                                                        | 14721/62918 [00:00<00:00, 72710.47it/s]\n",
      " 34%|████████████████████████▋                                                | 21271/62918 [00:00<00:00, 70160.31it/s]\n",
      " 45%|█████████████████████████████████▏                                       | 28582/62918 [00:00<00:00, 70764.01it/s]\n",
      " 54%|███████████████████████████████████████▍                                 | 33945/62918 [00:00<00:00, 66607.81it/s]\n",
      " 66%|███████████████████████████████████████████████▊                         | 41248/62918 [00:00<00:00, 67691.01it/s]\n",
      " 75%|██████████████████████████████████████████████████████▋                  | 47127/62918 [00:00<00:00, 65067.84it/s]\n",
      " 84%|█████████████████████████████████████████████████████████████▌           | 53049/62918 [00:00<00:00, 64432.18it/s]\n",
      " 96%|██████████████████████████████████████████████████████████████████████▎  | 60561/62918 [00:00<00:00, 65538.69it/s]\n",
      "100%|█████████████████████████████████████████████████████████████████████████| 62918/62918 [00:00<00:00, 65540.85it/s]"
     ]
    }
   ],
   "source": [
    "from tqdm import tqdm\n",
    "for i in tqdm(range(len(datatest))):\n",
    "    if pd.isna(datatest['review'][i]):\n",
    "        datatest['review'][i] = predict(listdatatest[i])"
   ]
  },
  {
   "cell_type": "code",
   "execution_count": 129,
   "metadata": {},
   "outputs": [
    {
     "name": "stdout",
     "output_type": "stream",
     "text": [
      "Dateng goods do not conform pesanan😔\n"
     ]
    },
    {
     "ename": "UnpicklingError",
     "evalue": "invalid load key, 'H'.",
     "output_type": "error",
     "traceback": [
      "\u001b[1;31m---------------------------------------------------------------------------\u001b[0m",
      "\u001b[1;31mUnpicklingError\u001b[0m                           Traceback (most recent call last)",
      "\u001b[1;32m<ipython-input-129-020e6a8eb432>\u001b[0m in \u001b[0;36m<module>\u001b[1;34m()\u001b[0m\n\u001b[0;32m      1\u001b[0m \u001b[0mprint\u001b[0m\u001b[1;33m(\u001b[0m\u001b[0mlistdatatest\u001b[0m\u001b[1;33m[\u001b[0m\u001b[1;36m1\u001b[0m\u001b[1;33m]\u001b[0m\u001b[1;33m)\u001b[0m\u001b[1;33m\u001b[0m\u001b[0m\n\u001b[1;32m----> 2\u001b[1;33m \u001b[0mprint\u001b[0m\u001b[1;33m(\u001b[0m\u001b[0mpredict\u001b[0m\u001b[1;33m(\u001b[0m\u001b[0mlistdatatest\u001b[0m\u001b[1;33m[\u001b[0m\u001b[1;36m1\u001b[0m\u001b[1;33m]\u001b[0m\u001b[1;33m)\u001b[0m\u001b[1;33m)\u001b[0m\u001b[1;33m\u001b[0m\u001b[0m\n\u001b[0m",
      "\u001b[1;32m<ipython-input-127-0858322e1389>\u001b[0m in \u001b[0;36mpredict\u001b[1;34m(text)\u001b[0m\n\u001b[0;32m    152\u001b[0m       \u001b[1;31m##Predict\u001b[0m\u001b[1;33m\u001b[0m\u001b[1;33m\u001b[0m\u001b[0m\n\u001b[0;32m    153\u001b[0m         \u001b[0mfilename\u001b[0m \u001b[1;33m=\u001b[0m \u001b[1;34m'weights4.hdf5'\u001b[0m\u001b[1;33m\u001b[0m\u001b[0m\n\u001b[1;32m--> 154\u001b[1;33m         \u001b[0mclf\u001b[0m \u001b[1;33m=\u001b[0m \u001b[0mpickle\u001b[0m\u001b[1;33m.\u001b[0m\u001b[0mload\u001b[0m\u001b[1;33m(\u001b[0m\u001b[0mopen\u001b[0m\u001b[1;33m(\u001b[0m\u001b[0mfilename\u001b[0m\u001b[1;33m,\u001b[0m \u001b[1;34m\"rb\"\u001b[0m\u001b[1;33m)\u001b[0m\u001b[1;33m)\u001b[0m\u001b[1;33m\u001b[0m\u001b[0m\n\u001b[0m\u001b[0;32m    155\u001b[0m         \u001b[0mlabel\u001b[0m \u001b[1;33m=\u001b[0m \u001b[0mclf\u001b[0m\u001b[1;33m.\u001b[0m\u001b[0mpredict\u001b[0m\u001b[1;33m(\u001b[0m\u001b[0mtest\u001b[0m\u001b[1;33m[\u001b[0m\u001b[1;36m0\u001b[0m\u001b[1;33m]\u001b[0m\u001b[1;33m)\u001b[0m\u001b[1;33m\u001b[0m\u001b[0m\n\u001b[0;32m    156\u001b[0m         \u001b[1;32mreturn\u001b[0m \u001b[0mlabel\u001b[0m\u001b[1;33m[\u001b[0m\u001b[1;36m0\u001b[0m\u001b[1;33m]\u001b[0m\u001b[1;33m\u001b[0m\u001b[0m\n",
      "\u001b[1;31mUnpicklingError\u001b[0m: invalid load key, 'H'."
     ]
    }
   ],
   "source": [
    "print(listdatatest[0])\n",
    "print(predict(listdatatest[0]))"
   ]
  },
  {
   "cell_type": "code",
   "execution_count": 81,
   "metadata": {},
   "outputs": [
    {
     "data": {
      "text/plain": [
       "array([1.2669063e-04, 2.8759649e-02, 4.1430339e-01, 9.2384607e-02,\n",
       "       5.2568752e-01], dtype=float32)"
      ]
     },
     "execution_count": 81,
     "metadata": {},
     "output_type": "execute_result"
    }
   ],
   "source": [
    "predictions[2]"
   ]
  },
  {
   "cell_type": "code",
   "execution_count": null,
   "metadata": {},
   "outputs": [],
   "source": []
  }
 ],
 "metadata": {
  "kernelspec": {
   "display_name": "Python 3",
   "language": "python",
   "name": "python3"
  },
  "language_info": {
   "codemirror_mode": {
    "name": "ipython",
    "version": 3
   },
   "file_extension": ".py",
   "mimetype": "text/x-python",
   "name": "python",
   "nbconvert_exporter": "python",
   "pygments_lexer": "ipython3",
   "version": "3.6.5"
  }
 },
 "nbformat": 4,
 "nbformat_minor": 2
}
